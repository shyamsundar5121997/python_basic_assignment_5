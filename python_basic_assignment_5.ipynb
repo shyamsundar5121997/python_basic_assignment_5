{
 "cells": [
  {
   "cell_type": "markdown",
   "id": "56b898ad",
   "metadata": {},
   "source": [
    "1. What does an empty dictionarys code look like?"
   ]
  },
  {
   "cell_type": "code",
   "execution_count": 1,
   "id": "88acb74e",
   "metadata": {},
   "outputs": [
    {
     "data": {
      "text/plain": [
       "dict"
      ]
     },
     "execution_count": 1,
     "metadata": {},
     "output_type": "execute_result"
    }
   ],
   "source": [
    "dict = {}\n",
    "type(dict)"
   ]
  },
  {
   "cell_type": "markdown",
   "id": "231ce51d",
   "metadata": {},
   "source": [
    "2. What is the value of a dictionary value with the key 'foo' and the value 42?"
   ]
  },
  {
   "cell_type": "code",
   "execution_count": 3,
   "id": "5660b4dd",
   "metadata": {},
   "outputs": [
    {
     "data": {
      "text/plain": [
       "{'foo': 42}"
      ]
     },
     "execution_count": 3,
     "metadata": {},
     "output_type": "execute_result"
    }
   ],
   "source": [
    "dict={'foo':42}\n",
    "dict"
   ]
  },
  {
   "cell_type": "markdown",
   "id": "bf238eb9",
   "metadata": {},
   "source": [
    "3. What is the most significant distinction between a dictionary and a list?"
   ]
  },
  {
   "cell_type": "code",
   "execution_count": null,
   "id": "584b01f3",
   "metadata": {},
   "outputs": [],
   "source": [
    "=>List - items in list are Ordered.\n",
    "  Dictionary : iten in dictionary are unordered."
   ]
  },
  {
   "cell_type": "markdown",
   "id": "543cb708",
   "metadata": {},
   "source": [
    "4. What happens if you try to access spam['foo'] if spam is {'bar': 100}?"
   ]
  },
  {
   "cell_type": "code",
   "execution_count": 4,
   "id": "a0473e3e",
   "metadata": {},
   "outputs": [
    {
     "ename": "KeyError",
     "evalue": "'fool'",
     "output_type": "error",
     "traceback": [
      "\u001b[1;31m---------------------------------------------------------------------------\u001b[0m",
      "\u001b[1;31mKeyError\u001b[0m                                  Traceback (most recent call last)",
      "Cell \u001b[1;32mIn[4], line 2\u001b[0m\n\u001b[0;32m      1\u001b[0m spam\u001b[38;5;241m=\u001b[39m{\u001b[38;5;124m'\u001b[39m\u001b[38;5;124mbar\u001b[39m\u001b[38;5;124m'\u001b[39m:\u001b[38;5;241m100\u001b[39m}\n\u001b[1;32m----> 2\u001b[0m \u001b[43mspam\u001b[49m\u001b[43m[\u001b[49m\u001b[38;5;124;43m'\u001b[39;49m\u001b[38;5;124;43mfool\u001b[39;49m\u001b[38;5;124;43m'\u001b[39;49m\u001b[43m]\u001b[49m\n",
      "\u001b[1;31mKeyError\u001b[0m: 'fool'"
     ]
    }
   ],
   "source": [
    "spam={'bar':100}\n",
    "spam['fool']"
   ]
  },
  {
   "cell_type": "markdown",
   "id": "cb996006",
   "metadata": {},
   "source": [
    "5. If a dictionary is stored in spam, what is the difference between the expressions 'cat' in spam and\n",
    "'cat' in spam.keys()?"
   ]
  },
  {
   "cell_type": "code",
   "execution_count": 5,
   "id": "6be1041c",
   "metadata": {},
   "outputs": [
    {
     "data": {
      "text/plain": [
       "True"
      ]
     },
     "execution_count": 5,
     "metadata": {},
     "output_type": "execute_result"
    }
   ],
   "source": [
    "spam ={'cat':100}\n",
    "'cat' in spam"
   ]
  },
  {
   "cell_type": "code",
   "execution_count": 6,
   "id": "b2e5f0f3",
   "metadata": {},
   "outputs": [
    {
     "data": {
      "text/plain": [
       "dict_keys(['cat'])"
      ]
     },
     "execution_count": 6,
     "metadata": {},
     "output_type": "execute_result"
    }
   ],
   "source": [
    "spam.keys()"
   ]
  },
  {
   "cell_type": "markdown",
   "id": "265a16d2",
   "metadata": {},
   "source": [
    "6. If a dictionary is stored in spam, what is the difference between the expressions 'cat'; in spam and 'cat'; in spam.values()?"
   ]
  },
  {
   "cell_type": "code",
   "execution_count": 7,
   "id": "75b5850b",
   "metadata": {},
   "outputs": [
    {
     "data": {
      "text/plain": [
       "True"
      ]
     },
     "execution_count": 7,
     "metadata": {},
     "output_type": "execute_result"
    }
   ],
   "source": [
    "spam ={'cat':100}\n",
    "'cat' in spam"
   ]
  },
  {
   "cell_type": "code",
   "execution_count": 8,
   "id": "109d41d3",
   "metadata": {},
   "outputs": [
    {
     "data": {
      "text/plain": [
       "dict_values([100])"
      ]
     },
     "execution_count": 8,
     "metadata": {},
     "output_type": "execute_result"
    }
   ],
   "source": [
    "spam.values(), It is false"
   ]
  },
  {
   "cell_type": "markdown",
   "id": "43c816c3",
   "metadata": {},
   "source": [
    "7. What is a shortcut for the following code?\n"
   ]
  },
  {
   "cell_type": "code",
   "execution_count": 9,
   "id": "e49c5337",
   "metadata": {},
   "outputs": [],
   "source": [
    "if 'color' not in spam:\n",
    "    spam['color'] ='black'"
   ]
  },
  {
   "cell_type": "code",
   "execution_count": 10,
   "id": "b82fd6b6",
   "metadata": {},
   "outputs": [
    {
     "data": {
      "text/plain": [
       "{'cat': 100, 'color': 'black'}"
      ]
     },
     "execution_count": 10,
     "metadata": {},
     "output_type": "execute_result"
    }
   ],
   "source": [
    "spam ={'cat':100}\n",
    "spam.setdefault('color','black')\n",
    "spam"
   ]
  },
  {
   "cell_type": "markdown",
   "id": "59810315",
   "metadata": {},
   "source": [
    "8. How do you 'pretty print' dictionary values using which module and function?"
   ]
  },
  {
   "cell_type": "code",
   "execution_count": 11,
   "id": "35b38372",
   "metadata": {},
   "outputs": [],
   "source": [
    "import pprint"
   ]
  },
  {
   "cell_type": "code",
   "execution_count": 12,
   "id": "3c154650",
   "metadata": {},
   "outputs": [],
   "source": [
    "list=[{\"name\":\"shyam\",\"age\":26,\"height\":169},\n",
    "      {\"name\":\"pranto\",\"age\":24,\"height\":162},\n",
    "      {\"name\":\"yugo\",\"age\":24,\"height\":167}\n",
    "     ]"
   ]
  },
  {
   "cell_type": "code",
   "execution_count": 13,
   "id": "24e5639b",
   "metadata": {},
   "outputs": [
    {
     "data": {
      "text/plain": [
       "[{'name': 'shyam', 'age': 26, 'height': 169},\n",
       " {'name': 'pranto', 'age': 24, 'height': 162},\n",
       " {'name': 'yugo', 'age': 24, 'height': 167}]"
      ]
     },
     "execution_count": 13,
     "metadata": {},
     "output_type": "execute_result"
    }
   ],
   "source": [
    "list"
   ]
  },
  {
   "cell_type": "code",
   "execution_count": 14,
   "id": "96c5105b",
   "metadata": {},
   "outputs": [
    {
     "name": "stdout",
     "output_type": "stream",
     "text": [
      "[{'age': 26, 'height': 169, 'name': 'shyam'},\n",
      " {'age': 24, 'height': 162, 'name': 'pranto'},\n",
      " {'age': 24, 'height': 167, 'name': 'yugo'}]\n"
     ]
    }
   ],
   "source": [
    "pprint.pprint(list)"
   ]
  },
  {
   "cell_type": "code",
   "execution_count": null,
   "id": "15778aac",
   "metadata": {},
   "outputs": [],
   "source": []
  }
 ],
 "metadata": {
  "kernelspec": {
   "display_name": "Python 3 (ipykernel)",
   "language": "python",
   "name": "python3"
  },
  "language_info": {
   "codemirror_mode": {
    "name": "ipython",
    "version": 3
   },
   "file_extension": ".py",
   "mimetype": "text/x-python",
   "name": "python",
   "nbconvert_exporter": "python",
   "pygments_lexer": "ipython3",
   "version": "3.10.9"
  }
 },
 "nbformat": 4,
 "nbformat_minor": 5
}
